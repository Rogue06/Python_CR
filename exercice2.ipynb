{
 "cells": [
  {
   "cell_type": "code",
   "execution_count": 4,
   "metadata": {},
   "outputs": [
    {
     "name": "stdout",
     "output_type": "stream",
     "text": [
      "il faudra 18 années pour doubler l'investissement.\n"
     ]
    }
   ],
   "source": [
    "initial_wallet = 1000\n",
    "rate = 0.04\n",
    "years = 0 \n",
    "current_wallet = initial_wallet\n",
    "\n",
    "while current_wallet < 2 * initial_wallet:\n",
    "    current_wallet = current_wallet + current_wallet * rate\n",
    "    years += 1\n",
    "print(\"il faudra\", years, \"années pour doubler l'investissement.\")"
   ]
  },
  {
   "cell_type": "code",
   "execution_count": 14,
   "metadata": {},
   "outputs": [
    {
     "name": "stdout",
     "output_type": "stream",
     "text": [
      "il faudra 36 années pour doubler l'investissement.\n"
     ]
    }
   ],
   "source": [
    "initial_wallet = 1000\n",
    "rate = 0.02\n",
    "years = 0 \n",
    "current_wallet = initial_wallet\n",
    "\n",
    "while current_wallet < 2 * initial_wallet:\n",
    "    current_wallet = current_wallet + current_wallet * rate\n",
    "    years += 1\n",
    "print(\"il faudra\", years, \"années pour doubler l'investissement.\")"
   ]
  },
  {
   "cell_type": "code",
   "execution_count": 96,
   "metadata": {},
   "outputs": [
    {
     "name": "stdout",
     "output_type": "stream",
     "text": [
      "Avec un taux d'intérêt de 2 %, il faut 36 années pour atteindre l'objectif de 2000\n",
      "Avec un taux d'intérêt de 3 %, il faut 24 années pour atteindre l'objectif de 2000\n",
      "Avec un taux d'intérêt de 4 %, il faut 18 années pour atteindre l'objectif de 2000\n",
      "Avec un taux d'intérêt de 5 %, il faut 15 années pour atteindre l'objectif de 2000\n",
      "Avec un taux d'intérêt de 6 %, il faut 12 années pour atteindre l'objectif de 2000\n",
      "Avec un taux d'intérêt de 7 %, il faut 11 années pour atteindre l'objectif de 2000\n",
      "Avec un taux d'intérêt de 8 %, il faut 10 années pour atteindre l'objectif de 2000\n"
     ]
    }
   ],
   "source": [
    "#Ajoutez une boucle for pour tester différents taux d'intérêt annuels \n",
    "#(par exemple, de 2 % à 8 %, par pas de 1 %) \n",
    "#et affichez le nombre d'années nécessaires pour atteindre l'objectif pour chaque taux.\n",
    "\n",
    "\n",
    "objectif = 2000  # Montant de l'objectif à atteindre\n",
    "\n",
    "for taux_interet in range(2, 9):  # Boucle pour les taux d'intérêt de 2 % à 8 %\n",
    "    montant = 1000  # Montant initial\n",
    "    annees = 0  # Compteur d'années\n",
    "\n",
    "    while montant < objectif:\n",
    "        montant *= (1 + taux_interet / 100)  # Calcul du montant avec le taux d'intérêt\n",
    "        annees += 1\n",
    "\n",
    "    print(\"Avec un taux d'intérêt de\", taux_interet, \"%, il faut\", annees, \"années pour atteindre l'objectif de\", objectif)\n",
    "\n",
    "    \n",
    "\n",
    "\n",
    "\n",
    "\n",
    "\n",
    "\n",
    "\n",
    "\n",
    "\n",
    "\n"
   ]
  },
  {
   "cell_type": "code",
   "execution_count": 109,
   "metadata": {},
   "outputs": [
    {
     "name": "stdout",
     "output_type": "stream",
     "text": [
      "Avec un taux d'intérêt de 2 %, il faut 36 années pour atteindre l'objectif de 2000\n",
      "Avec un taux d'intérêt de 3 %, il faut 24 années pour atteindre l'objectif de 2000\n",
      "Avec un taux d'intérêt de 4 %, il faut 18 années pour atteindre l'objectif de 2000\n",
      "Avec un taux d'intérêt de 5 %, il faut 15 années pour atteindre l'objectif de 2000\n",
      "Avec un taux d'intérêt de 6 %, il faut 12 années pour atteindre l'objectif de 2000\n",
      "Avec un taux d'intérêt de 7 %, il faut 11 années pour atteindre l'objectif de 2000\n",
      "Avec un taux d'intérêt de 8 %, il faut 10 années pour atteindre l'objectif de 2000\n"
     ]
    }
   ],
   "source": []
  },
  {
   "cell_type": "code",
   "execution_count": null,
   "metadata": {},
   "outputs": [],
   "source": []
  }
 ],
 "metadata": {
  "kernelspec": {
   "display_name": "Python 3",
   "language": "python",
   "name": "python3"
  },
  "language_info": {
   "codemirror_mode": {
    "name": "ipython",
    "version": 3
   },
   "file_extension": ".py",
   "mimetype": "text/x-python",
   "name": "python",
   "nbconvert_exporter": "python",
   "pygments_lexer": "ipython3",
   "version": "3.11.0"
  },
  "orig_nbformat": 4
 },
 "nbformat": 4,
 "nbformat_minor": 2
}
