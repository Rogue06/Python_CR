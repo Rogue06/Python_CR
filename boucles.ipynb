{
 "cells": [
  {
   "cell_type": "code",
   "execution_count": 4,
   "metadata": {},
   "outputs": [
    {
     "name": "stdout",
     "output_type": "stream",
     "text": [
      "Wallet actuel au mois 1 : 3600\n",
      "Wallet actuel au mois 2 : 4700\n",
      "Wallet actuel au mois 3 : 5800\n",
      "Wallet actuel au mois 4 : 6900\n",
      "Wallet actuel au mois 5 : 8000\n",
      "Wallet actuel au mois 6 : 9100\n",
      "Wallet actuel au mois 7 : 10200\n",
      "Wallet actuel au mois 8 : 11300\n",
      "Wallet actuel au mois 9 : 12400\n",
      "Wallet actuel au mois 10 : 13500\n",
      "Wallet actuel au mois 11 : 14600\n",
      "Wallet actuel au mois 12 : 15700\n"
     ]
    }
   ],
   "source": [
    "wallet = 2500\n",
    "salary = 1800\n",
    "invoice = 700\n",
    "\n",
    "for i in range(1,13):\n",
    "    wallet = wallet + salary\n",
    "    wallet = wallet - invoice\n",
    "    print(\"Wallet actuel au mois\",i, \":\", wallet)\n",
    "\n",
    "    "
   ]
  },
  {
   "cell_type": "code",
   "execution_count": 1,
   "metadata": {},
   "outputs": [
    {
     "name": "stdout",
     "output_type": "stream",
     "text": [
      "1 1050.0\n",
      "2 1102.5\n",
      "3 1157.625\n",
      "4 1215.50625\n",
      "5 1276.2815624999998\n",
      "6 1340.0956406249998\n",
      "7 1407.1004226562497\n",
      "8 1477.4554437890622\n",
      "9 1551.3282159785153\n",
      "10 1628.894626777441\n",
      "11 1710.3393581163132\n",
      "12 1795.8563260221288\n",
      "13 1885.6491423232353\n",
      "14 1979.9315994393971\n",
      "15 2078.928179411367\n",
      "Il faudra 15 années pour doubler l'investissement.\n"
     ]
    }
   ],
   "source": [
    "initial_wallet = 1000\n",
    "rate = 0.05\n",
    "years = 0\n",
    "current_wallet = initial_wallet\n",
    "\n",
    "while current_wallet < 2 * initial_wallet: \n",
    "    current_wallet = current_wallet + current_wallet * rate \n",
    "    years += 1\n",
    "    print(years, current_wallet)\n",
    "\n",
    "print(\"Il faudra\", years, \"années pour doubler l'investissement.\")"
   ]
  },
  {
   "cell_type": "code",
   "execution_count": 2,
   "metadata": {},
   "outputs": [
    {
     "name": "stdout",
     "output_type": "stream",
     "text": [
      "Vendre la moitié\n"
     ]
    }
   ],
   "source": [
    "bitcoin_price = 45000\n",
    "\n",
    "if bitcoin_price <= 30000:\n",
    "    print(\"acheter\")\n",
    "elif bitcoin_price > 30000 and bitcoin_price <= 50000:\n",
    "    print(\"Vendre la moitié\")\n",
    "elif bitcoin_price < 60000:\n",
    "    print(\"Conserver\")\n",
    "else:\n",
    "    print(\"vendre la totalité\")"
   ]
  },
  {
   "cell_type": "code",
   "execution_count": 10,
   "metadata": {},
   "outputs": [
    {
     "name": "stdout",
     "output_type": "stream",
     "text": [
      "text is hello or hi\n",
      "My condition is true\n"
     ]
    }
   ],
   "source": [
    "text = \"hello\"\n",
    "if text == \"hello\" or text == \"hi\":\n",
    "    print(\"text is hello or hi\")\n",
    "elif text != \"hello\":\n",
    "    print(\"text is not hello and also no hi\")\n",
    "\n",
    "condition = True\n",
    "if condition is True:\n",
    "    print(\"My condition is true\")\n",
    "else: \n",
    "    print(\"My condition is false\")"
   ]
  },
  {
   "cell_type": "code",
   "execution_count": 13,
   "metadata": {},
   "outputs": [
    {
     "name": "stdout",
     "output_type": "stream",
     "text": [
      "1 400\n",
      "2 800\n",
      "3 1200\n",
      "4 1600\n",
      "5 2000\n",
      "6 2400\n",
      "7 3000\n",
      "8 3600\n",
      "9 4200\n",
      "10 4800\n",
      "11 5400\n",
      "12 6000\n",
      "13 6600\n",
      "14 7200\n",
      "15 7800\n",
      "16 8400\n",
      "17 9000\n",
      "18 9600\n",
      "19 10200\n",
      "Il vous faudra 19 mois pour atteindre votre objectif d'épargne de 10000€.\n"
     ]
    }
   ],
   "source": [
    "# Variables\n",
    "\n",
    "saving_goal = 10000\n",
    "monthly_saving = 400\n",
    "promotion_month = 6\n",
    "saving_increase = 200\n",
    "\n",
    "# Initialiser les compteurs \n",
    "months_needed = 0\n",
    "total_saving = 0\n",
    "\n",
    "# Boucle pour atteindre l'objecitf d'épargne\n",
    "while total_saving < saving_goal:\n",
    "    # Vérifie si la promotion à eu lieu \n",
    "    if months_needed == promotion_month:\n",
    "        monthly_saving += saving_increase\n",
    "\n",
    "    # Ajoutez l'épargne mensuelle au total \n",
    "    total_saving += monthly_saving\n",
    "\n",
    "    # Incrémentez le compteur de mois nécessaires\n",
    "    months_needed += 1\n",
    "    print(months_needed, total_saving)\n",
    "\n",
    "print(f\"Il vous faudra {months_needed} mois pour atteindre votre objectif d'épargne de {saving_goal}€.\")\n",
    "\n"
   ]
  },
  {
   "cell_type": "code",
   "execution_count": null,
   "metadata": {},
   "outputs": [],
   "source": []
  }
 ],
 "metadata": {
  "kernelspec": {
   "display_name": "Python 3",
   "language": "python",
   "name": "python3"
  },
  "language_info": {
   "codemirror_mode": {
    "name": "ipython",
    "version": 3
   },
   "file_extension": ".py",
   "mimetype": "text/x-python",
   "name": "python",
   "nbconvert_exporter": "python",
   "pygments_lexer": "ipython3",
   "version": "3.11.0"
  },
  "orig_nbformat": 4
 },
 "nbformat": 4,
 "nbformat_minor": 2
}
